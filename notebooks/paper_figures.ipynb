{
 "cells": [
  {
   "cell_type": "code",
   "execution_count": 1,
   "metadata": {},
   "outputs": [],
   "source": [
    "%load_ext autoreload\n",
    "%autoreload 2"
   ]
  },
  {
   "cell_type": "code",
   "execution_count": 2,
   "metadata": {},
   "outputs": [],
   "source": [
    "import sys\n",
    "import pandas as pd\n",
    "import numpy as np\n",
    "import matplotlib.pyplot as plt\n",
    "from pathlib import Path\n",
    "from spcqe.quantiles import SmoothPeriodicQuantiles"
   ]
  },
  {
   "cell_type": "code",
   "execution_count": 6,
   "metadata": {},
   "outputs": [
    {
     "data": {
      "text/html": [
       "<div>\n",
       "<style scoped>\n",
       "    .dataframe tbody tr th:only-of-type {\n",
       "        vertical-align: middle;\n",
       "    }\n",
       "\n",
       "    .dataframe tbody tr th {\n",
       "        vertical-align: top;\n",
       "    }\n",
       "\n",
       "    .dataframe thead th {\n",
       "        text-align: right;\n",
       "    }\n",
       "</style>\n",
       "<table border=\"1\" class=\"dataframe\">\n",
       "  <thead>\n",
       "    <tr style=\"text-align: right;\">\n",
       "      <th></th>\n",
       "      <th>RT_Demand</th>\n",
       "      <th>RT_LMP</th>\n",
       "      <th>Dry_Bulb</th>\n",
       "    </tr>\n",
       "  </thead>\n",
       "  <tbody>\n",
       "    <tr>\n",
       "      <th>2019-01-01 00:00:00</th>\n",
       "      <td>723.322</td>\n",
       "      <td>35.90</td>\n",
       "      <td>42</td>\n",
       "    </tr>\n",
       "    <tr>\n",
       "      <th>2019-01-01 01:00:00</th>\n",
       "      <td>688.771</td>\n",
       "      <td>38.81</td>\n",
       "      <td>44</td>\n",
       "    </tr>\n",
       "    <tr>\n",
       "      <th>2019-01-01 02:00:00</th>\n",
       "      <td>660.226</td>\n",
       "      <td>21.32</td>\n",
       "      <td>44</td>\n",
       "    </tr>\n",
       "    <tr>\n",
       "      <th>2019-01-01 03:00:00</th>\n",
       "      <td>642.773</td>\n",
       "      <td>18.52</td>\n",
       "      <td>46</td>\n",
       "    </tr>\n",
       "    <tr>\n",
       "      <th>2019-01-01 04:00:00</th>\n",
       "      <td>638.376</td>\n",
       "      <td>7.57</td>\n",
       "      <td>49</td>\n",
       "    </tr>\n",
       "    <tr>\n",
       "      <th>...</th>\n",
       "      <td>...</td>\n",
       "      <td>...</td>\n",
       "      <td>...</td>\n",
       "    </tr>\n",
       "    <tr>\n",
       "      <th>2020-12-31 19:00:00</th>\n",
       "      <td>955.129</td>\n",
       "      <td>28.99</td>\n",
       "      <td>39</td>\n",
       "    </tr>\n",
       "    <tr>\n",
       "      <th>2020-12-31 20:00:00</th>\n",
       "      <td>911.699</td>\n",
       "      <td>25.14</td>\n",
       "      <td>38</td>\n",
       "    </tr>\n",
       "    <tr>\n",
       "      <th>2020-12-31 21:00:00</th>\n",
       "      <td>870.142</td>\n",
       "      <td>41.10</td>\n",
       "      <td>37</td>\n",
       "    </tr>\n",
       "    <tr>\n",
       "      <th>2020-12-31 22:00:00</th>\n",
       "      <td>833.948</td>\n",
       "      <td>37.21</td>\n",
       "      <td>36</td>\n",
       "    </tr>\n",
       "    <tr>\n",
       "      <th>2020-12-31 23:00:00</th>\n",
       "      <td>793.230</td>\n",
       "      <td>46.49</td>\n",
       "      <td>34</td>\n",
       "    </tr>\n",
       "  </tbody>\n",
       "</table>\n",
       "<p>17544 rows × 3 columns</p>\n",
       "</div>"
      ],
      "text/plain": [
       "                     RT_Demand  RT_LMP  Dry_Bulb\n",
       "2019-01-01 00:00:00    723.322   35.90        42\n",
       "2019-01-01 01:00:00    688.771   38.81        44\n",
       "2019-01-01 02:00:00    660.226   21.32        44\n",
       "2019-01-01 03:00:00    642.773   18.52        46\n",
       "2019-01-01 04:00:00    638.376    7.57        49\n",
       "...                        ...     ...       ...\n",
       "2020-12-31 19:00:00    955.129   28.99        39\n",
       "2020-12-31 20:00:00    911.699   25.14        38\n",
       "2020-12-31 21:00:00    870.142   41.10        37\n",
       "2020-12-31 22:00:00    833.948   37.21        36\n",
       "2020-12-31 23:00:00    793.230   46.49        34\n",
       "\n",
       "[17544 rows x 3 columns]"
      ]
     },
     "execution_count": 6,
     "metadata": {},
     "output_type": "execute_result"
    }
   ],
   "source": [
    "def process_excel_file(file_name, year):\n",
    "    # Check if the year is a leap year\n",
    "    is_leap_year = (year % 4 == 0 and year % 100 != 0) or (year % 400 == 0)\n",
    "    \n",
    "    # Define the start and end of your time range\n",
    "    start = pd.Timestamp(f'{year}-01-01 00:00:00')\n",
    "    end = pd.Timestamp(f'{year}-12-31 23:00:00')\n",
    "    \n",
    "    # Create an hourly time index between start and end\n",
    "    time_index = pd.date_range(start, end, freq='H')\n",
    "    \n",
    "    # Read the Excel file and select columns\n",
    "    df = pd.read_excel(file_name, sheet_name='RI', usecols=['RT_Demand', 'Dry_Bulb', 'RT_LMP'])\n",
    "    \n",
    "    # Assign your new time index to your dataframe\n",
    "    df.index = time_index\n",
    "    \n",
    "    return df\n",
    "\n",
    "#years = [2019, 2020, 2021, 2022]\n",
    "years = [2019, 2020]\n",
    "paths = [Path() / 'notebooks'/ 'fixtures' / f'{year}_smd_hourly.xlsx' for year in years]\n",
    "df_list = [process_excel_file(path, year) for (path, year) in zip(paths, years)]\n",
    "\n",
    "df = pd.concat(df_list)\n",
    "df"
   ]
  },
  {
   "cell_type": "code",
   "execution_count": 5,
   "metadata": {},
   "outputs": [
    {
     "name": "stdout",
     "output_type": "stream",
     "text": [
      ".\n"
     ]
    }
   ],
   "source": [
    "print(Path())"
   ]
  }
 ],
 "metadata": {
  "kernelspec": {
   "display_name": "spcqe-dev",
   "language": "python",
   "name": "python3"
  },
  "language_info": {
   "codemirror_mode": {
    "name": "ipython",
    "version": 3
   },
   "file_extension": ".py",
   "mimetype": "text/x-python",
   "name": "python",
   "nbconvert_exporter": "python",
   "pygments_lexer": "ipython3",
   "version": "3.10.12"
  },
  "orig_nbformat": 4
 },
 "nbformat": 4,
 "nbformat_minor": 2
}
