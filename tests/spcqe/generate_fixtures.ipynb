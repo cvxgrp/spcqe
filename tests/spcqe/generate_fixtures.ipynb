{
 "cells": [
  {
   "cell_type": "code",
   "execution_count": 1,
   "metadata": {},
   "outputs": [],
   "source": [
    "%load_ext autoreload\n",
    "%autoreload 2"
   ]
  },
  {
   "cell_type": "code",
   "execution_count": 2,
   "metadata": {},
   "outputs": [],
   "source": [
    "import os\n",
    "\n",
    "import numpy as np\n",
    "import scipy.sparse as sp\n",
    "\n",
    "from solardatatools import DataHandler\n",
    "from solardatatools.dataio import load_redshift_data\n",
    "from solardatatools.algorithms import Dilation\n",
    "from spcqe.quantiles import SmoothPeriodicQuantiles\n",
    "from spcqe.functions import make_basis_matrix, make_regularization_matrix"
   ]
  },
  {
   "cell_type": "code",
   "execution_count": 3,
   "metadata": {},
   "outputs": [],
   "source": [
    "directory = 'fixtures'"
   ]
  },
  {
   "cell_type": "markdown",
   "metadata": {},
   "source": [
    "## Basis matrix"
   ]
  },
  {
   "cell_type": "markdown",
   "metadata": {},
   "source": [
    "3 periods and a trend term"
   ]
  },
  {
   "cell_type": "code",
   "execution_count": 4,
   "metadata": {},
   "outputs": [],
   "source": [
    "basis_a1 = make_basis_matrix(num_harmonics=10, length=500, periods=[11, 17, 23], trend=True)\n",
    "np.save(os.path.join(directory, 'basis_a1.npy'), basis_a1)"
   ]
  },
  {
   "cell_type": "markdown",
   "metadata": {},
   "source": [
    "2 periods and no trend term"
   ]
  },
  {
   "cell_type": "code",
   "execution_count": 5,
   "metadata": {},
   "outputs": [],
   "source": [
    "basis_a2 = make_basis_matrix(num_harmonics=10, length=400, periods=[11, 17], trend=False)\n",
    "np.save(os.path.join(directory, 'basis_a2.npy'), basis_a2)"
   ]
  },
  {
   "cell_type": "markdown",
   "metadata": {},
   "source": [
    "multiple harmonics and standing wave"
   ]
  },
  {
   "cell_type": "code",
   "execution_count": 6,
   "metadata": {},
   "outputs": [],
   "source": [
    "basis_a3 = make_basis_matrix(num_harmonics=[3, 7], length=370, periods=[11, 3], standing_wave=[True, False], trend=False)\n",
    "np.save(os.path.join(directory, 'basis_a3.npy'), basis_a3)"
   ]
  },
  {
   "cell_type": "markdown",
   "metadata": {},
   "source": [
    "multiple harmonics and standing wave and max cross terms"
   ]
  },
  {
   "cell_type": "code",
   "execution_count": 7,
   "metadata": {},
   "outputs": [],
   "source": [
    "basis_a4 = make_basis_matrix(num_harmonics=[4, 3], length=420, periods=[6, 8], standing_wave=True, trend=True, max_cross_k=4)\n",
    "np.save(os.path.join(directory, 'basis_a4.npy'), basis_a4)"
   ]
  },
  {
   "cell_type": "markdown",
   "metadata": {},
   "source": [
    "## Regularization matrix"
   ]
  },
  {
   "cell_type": "markdown",
   "metadata": {},
   "source": [
    "3 periods and a trend term"
   ]
  },
  {
   "cell_type": "code",
   "execution_count": 8,
   "metadata": {},
   "outputs": [],
   "source": [
    "reg_a1 = make_regularization_matrix(num_harmonics=10, weight=10, periods=[11, 17, 23], trend=True)\n",
    "sp.save_npz(os.path.join(directory, 'reg_a1.npz'), reg_a1)"
   ]
  },
  {
   "cell_type": "markdown",
   "metadata": {},
   "source": [
    "2 periods and no trend term"
   ]
  },
  {
   "cell_type": "code",
   "execution_count": 9,
   "metadata": {},
   "outputs": [],
   "source": [
    "reg_a2 = make_regularization_matrix(num_harmonics=10, weight=1, periods=[11, 17], trend=False)\n",
    "sp.save_npz(os.path.join(directory, 'reg_a2.npz'), reg_a2)"
   ]
  },
  {
   "cell_type": "markdown",
   "metadata": {},
   "source": [
    "multiple harmonics and standing wave"
   ]
  },
  {
   "cell_type": "code",
   "execution_count": 10,
   "metadata": {},
   "outputs": [],
   "source": [
    "reg_a3 = make_regularization_matrix(num_harmonics=[3, 7], weight=0, periods=[11, 3], standing_wave=[True, False], trend=False)\n",
    "sp.save_npz(os.path.join(directory, 'reg_a3.npz'), reg_a3)"
   ]
  },
  {
   "cell_type": "markdown",
   "metadata": {},
   "source": [
    "multiple harmonics and standing wave and max cross terms"
   ]
  },
  {
   "cell_type": "code",
   "execution_count": 11,
   "metadata": {},
   "outputs": [],
   "source": [
    "reg_a4 = make_regularization_matrix(num_harmonics=[4, 3], weight=3, periods=[6, 8], standing_wave=True, trend=True, max_cross_k=4)\n",
    "sp.save_npz(os.path.join(directory, 'reg_a4.npz'), reg_a4)"
   ]
  },
  {
   "cell_type": "markdown",
   "metadata": {},
   "source": [
    "## Transforming pv data"
   ]
  },
  {
   "cell_type": "markdown",
   "metadata": {},
   "source": [
    "Import"
   ]
  },
  {
   "cell_type": "code",
   "execution_count": 12,
   "metadata": {},
   "outputs": [
    {
     "name": "stderr",
     "output_type": "stream",
     "text": [
      "/opt/miniconda3/envs/spcqe-dev/lib/python3.11/site-packages/solardatatools/time_axis_manipulation.py:79: FutureWarning: Series.__getitem__ treating keys as positions is deprecated. In a future version, integer keys will always be treated as labels (consistent with DataFrame behavior). To access a value by position, use `ser.iloc[pos]`\n",
      "  meas_name = str(df_view[name_key][0])\n"
     ]
    },
    {
     "name": "stdout",
     "output_type": "stream",
     "text": [
      "\n",
      "            *********************************************\n",
      "            * Solar Data Tools Data Onboarding Pipeline *\n",
      "            *********************************************\n",
      "\n",
      "            This pipeline runs a series of preprocessing, cleaning, and quality\n",
      "            control tasks on stand-alone PV power or irradiance time series data.\n",
      "            After the pipeline is run, the data may be plotted, filtered, or\n",
      "            further analyzed.\n",
      "\n",
      "            Authors: Bennet Meyers and Sara Miskovich, SLAC\n",
      "\n",
      "            (Tip: if you have a mosek [https://www.mosek.com/] license and have it\n",
      "            installed on your system, try setting solver='MOSEK' for a speedup)\n",
      "\n",
      "            This material is based upon work supported by the U.S. Department\n",
      "            of Energy's Office of Energy Efficiency and Renewable Energy (EERE)\n",
      "            under the Solar Energy Technologies Office Award Number 38529.\n",
      "\n",
      "            \n"
     ]
    },
    {
     "name": "stderr",
     "output_type": "stream",
     "text": [
      "task list:   0%|                                          | 0/7 [00:00<?, ?it/s]/opt/miniconda3/envs/spcqe-dev/lib/python3.11/site-packages/solardatatools/time_axis_manipulation.py:146: FutureWarning: Series.__getitem__ treating keys as positions is deprecated. In a future version, integer keys will always be treated as labels (consistent with DataFrame behavior). To access a value by position, use `ser.iloc[pos]`\n",
      "  if avg_day[0] >= thresh:\n",
      "/opt/miniconda3/envs/spcqe-dev/lib/python3.11/site-packages/solardatatools/time_axis_manipulation.py:152: FutureWarning: Series.__getitem__ treating keys as positions is deprecated. In a future version, integer keys will always be treated as labels (consistent with DataFrame behavior). To access a value by position, use `ser.iloc[pos]`\n",
      "  if avg_day[-1] >= thresh:\n",
      "/opt/miniconda3/envs/spcqe-dev/lib/python3.11/site-packages/solardatatools/matrix_embedding.py:41: FutureWarning: Second.delta is deprecated and will be removed in a future version. Use pd.Timedelta(obj) instead\n",
      "  n_steps = int(24 * 60 * 60 / df.index.freq.delta.seconds)\n",
      "task list: 100%|██████████████████████████████████| 7/7 [00:09<00:00,  1.38s/it]"
     ]
    },
    {
     "name": "stdout",
     "output_type": "stream",
     "text": [
      "\n",
      "\n",
      "total time: 9.67 seconds\n",
      "--------------------------------\n",
      "Breakdown\n",
      "--------------------------------\n",
      "Preprocessing              3.00s\n",
      "Cleaning                   0.17s\n",
      "Filtering/Summarizing      6.49s\n",
      "    Data quality           0.09s\n",
      "    Clear day detect       0.20s\n",
      "    Clipping detect        1.78s\n",
      "    Capacity change detect 4.42s\n",
      "\n"
     ]
    },
    {
     "name": "stderr",
     "output_type": "stream",
     "text": [
      "\n"
     ]
    }
   ],
   "source": [
    "query = {\n",
    "'siteid': \"TADBC1078041\",\n",
    "'api_key': os.environ.get('REDSHIFT_API_KEY'),\n",
    "'sensor': 0\n",
    "}\n",
    "df = load_redshift_data(**query)\n",
    "dh = DataHandler(df, convert_to_ts=True)\n",
    "dh.run_pipeline()"
   ]
  },
  {
   "cell_type": "markdown",
   "metadata": {},
   "source": [
    "Dilation"
   ]
  },
  {
   "cell_type": "code",
   "execution_count": 13,
   "metadata": {},
   "outputs": [],
   "source": [
    "nvals_dil = 101\n",
    "dil = Dilation(dh)\n",
    "sig = dil.signal_dil\n",
    "ndays = 50\n",
    "sig = sig[:1 + nvals_dil * ndays]"
   ]
  },
  {
   "cell_type": "code",
   "execution_count": 14,
   "metadata": {},
   "outputs": [],
   "source": [
    "np.save(os.path.join(directory, 'pvsig.npy'), sig)"
   ]
  },
  {
   "cell_type": "markdown",
   "metadata": {},
   "source": [
    "Transform"
   ]
  },
  {
   "cell_type": "code",
   "execution_count": 15,
   "metadata": {},
   "outputs": [],
   "source": [
    "my_quantiles = [0.02, 0.1, 0.2, 0.3, 0.4, 0.5, 0.6, 0.7, 0.8, 0.9, 0.98]"
   ]
  },
  {
   "cell_type": "code",
   "execution_count": 16,
   "metadata": {},
   "outputs": [
    {
     "name": "stderr",
     "output_type": "stream",
     "text": [
      "100%|███████████████████████████████████████████| 11/11 [00:08<00:00,  1.26it/s]\n"
     ]
    }
   ],
   "source": [
    "spq1 = SmoothPeriodicQuantiles(\n",
    "        num_harmonics=[10,3],\n",
    "        periods=[nvals_dil, 365.24225*nvals_dil],\n",
    "        standing_wave=[True, False],\n",
    "        trend=False,\n",
    "        quantiles=my_quantiles,\n",
    "        weight=10,\n",
    "        problem='sequential',\n",
    "        solver='qss',\n",
    "        verbose=False,\n",
    ")\n",
    "spq1.fit(sig)"
   ]
  },
  {
   "cell_type": "code",
   "execution_count": 17,
   "metadata": {},
   "outputs": [],
   "source": [
    "transformed_data1 = spq1.transform(sig)\n",
    "np.save(os.path.join(directory, 'transformed_data1.npy'), transformed_data1)"
   ]
  },
  {
   "cell_type": "code",
   "execution_count": 18,
   "metadata": {},
   "outputs": [],
   "source": [
    "spq2 = SmoothPeriodicQuantiles(\n",
    "        num_harmonics=[10,3],\n",
    "        periods=[nvals_dil, 365.24225*nvals_dil],\n",
    "        standing_wave=[True, False],\n",
    "        trend=False,\n",
    "        quantiles=my_quantiles,\n",
    "        weight=10,\n",
    "        problem='full',\n",
    "        solver='clarabel',\n",
    "        verbose=False,\n",
    ")\n",
    "spq2.fit(sig)"
   ]
  },
  {
   "cell_type": "code",
   "execution_count": 19,
   "metadata": {},
   "outputs": [],
   "source": [
    "transformed_data2 = spq2.transform(sig)\n",
    "np.save(os.path.join(directory, 'transformed_data2.npy'), transformed_data2)"
   ]
  }
 ],
 "metadata": {
  "kernelspec": {
   "display_name": "spcqe-dev",
   "language": "python",
   "name": "python3"
  },
  "language_info": {
   "codemirror_mode": {
    "name": "ipython",
    "version": 3
   },
   "file_extension": ".py",
   "mimetype": "text/x-python",
   "name": "python",
   "nbconvert_exporter": "python",
   "pygments_lexer": "ipython3",
   "version": "3.11.8"
  }
 },
 "nbformat": 4,
 "nbformat_minor": 2
}
