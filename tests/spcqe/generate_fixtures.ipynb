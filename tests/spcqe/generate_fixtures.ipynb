{
 "cells": [
  {
   "cell_type": "code",
   "execution_count": 43,
   "metadata": {},
   "outputs": [],
   "source": [
    "import numpy as np\n",
    "import os\n",
    "import scipy.sparse as sp\n",
    "\n",
    "from spcqe.functions import make_basis_matrix, make_regularization_matrix\n",
    "from spcqe.test_functions import basis_3, basis_2"
   ]
  },
  {
   "cell_type": "code",
   "execution_count": 31,
   "metadata": {},
   "outputs": [],
   "source": [
    "directory = 'fixtures'"
   ]
  },
  {
   "cell_type": "markdown",
   "metadata": {},
   "source": [
    "## Basis matrix"
   ]
  },
  {
   "cell_type": "markdown",
   "metadata": {},
   "source": [
    "3 periods and a trend term"
   ]
  },
  {
   "cell_type": "code",
   "execution_count": 32,
   "metadata": {},
   "outputs": [],
   "source": [
    "basis_a1 = make_basis_matrix(num_harmonics=10, length=500, periods=[11, 17, 23], trend=True)\n",
    "np.save(os.path.join(directory, 'basis_a1.npy'), basis_a1)"
   ]
  },
  {
   "cell_type": "markdown",
   "metadata": {},
   "source": [
    "2 periods and no trend term"
   ]
  },
  {
   "cell_type": "code",
   "execution_count": 33,
   "metadata": {},
   "outputs": [],
   "source": [
    "basis_a2 = make_basis_matrix(num_harmonics=10, length=400, periods=[11, 17], trend=False)\n",
    "np.save(os.path.join(directory, 'basis_a2.npy'), basis_a2)"
   ]
  },
  {
   "cell_type": "markdown",
   "metadata": {},
   "source": [
    "multiple harmonics and standing wave"
   ]
  },
  {
   "cell_type": "code",
   "execution_count": 34,
   "metadata": {},
   "outputs": [],
   "source": [
    "basis_a3 = make_basis_matrix(num_harmonics=[3, 7], length=370, periods=[11, 3], standing_wave=[True, False], trend=False)\n",
    "np.save(os.path.join(directory, 'basis_a3.npy'), basis_a3)"
   ]
  },
  {
   "cell_type": "markdown",
   "metadata": {},
   "source": [
    "multiple harmonics and standing wave and max cross terms"
   ]
  },
  {
   "cell_type": "code",
   "execution_count": 35,
   "metadata": {},
   "outputs": [],
   "source": [
    "basis_a4 = make_basis_matrix(num_harmonics=[4, 3], length=420, periods=[6, 8], standing_wave=True, trend=True, max_cross_k=4)\n",
    "np.save(os.path.join(directory, 'basis_a4.npy'), basis_a4)"
   ]
  },
  {
   "cell_type": "markdown",
   "metadata": {},
   "source": [
    "## Regularization matrix"
   ]
  },
  {
   "cell_type": "markdown",
   "metadata": {},
   "source": [
    "3 periods and a trend term"
   ]
  },
  {
   "cell_type": "code",
   "execution_count": 45,
   "metadata": {},
   "outputs": [],
   "source": [
    "reg_a1 = make_regularization_matrix(num_harmonics=10, weight=10, periods=[11, 17, 23], trend=True)\n",
    "sp.save_npz(os.path.join(directory, 'reg_a1.npz'), reg_a1)"
   ]
  },
  {
   "cell_type": "markdown",
   "metadata": {},
   "source": [
    "2 periods and no trend term"
   ]
  },
  {
   "cell_type": "code",
   "execution_count": 47,
   "metadata": {},
   "outputs": [],
   "source": [
    "reg_a2 = make_regularization_matrix(num_harmonics=10, weight=1, periods=[11, 17], trend=False)\n",
    "sp.save_npz(os.path.join(directory, 'reg_a2.npz'), reg_a2)"
   ]
  },
  {
   "cell_type": "markdown",
   "metadata": {},
   "source": [
    "multiple harmonics and standing wave"
   ]
  },
  {
   "cell_type": "code",
   "execution_count": 48,
   "metadata": {},
   "outputs": [],
   "source": [
    "reg_a3 = make_regularization_matrix(num_harmonics=[3, 7], weight=0, periods=[11, 3], standing_wave=[True, False], trend=False)\n",
    "sp.save_npz(os.path.join(directory, 'reg_a3.npz'), reg_a3)"
   ]
  },
  {
   "cell_type": "markdown",
   "metadata": {},
   "source": [
    "multiple harmonics and standing wave and max cross terms"
   ]
  },
  {
   "cell_type": "code",
   "execution_count": 49,
   "metadata": {},
   "outputs": [],
   "source": [
    "reg_a4 = make_regularization_matrix(num_harmonics=[4, 3], weight=3, periods=[6, 8], standing_wave=True, trend=True, max_cross_k=4)\n",
    "sp.save_npz(os.path.join(directory, 'reg_a4.npz'), reg_a4)"
   ]
  }
 ],
 "metadata": {
  "kernelspec": {
   "display_name": "spcqe-dev",
   "language": "python",
   "name": "python3"
  },
  "language_info": {
   "codemirror_mode": {
    "name": "ipython",
    "version": 3
   },
   "file_extension": ".py",
   "mimetype": "text/x-python",
   "name": "python",
   "nbconvert_exporter": "python",
   "pygments_lexer": "ipython3",
   "version": "3.11.8"
  }
 },
 "nbformat": 4,
 "nbformat_minor": 2
}
