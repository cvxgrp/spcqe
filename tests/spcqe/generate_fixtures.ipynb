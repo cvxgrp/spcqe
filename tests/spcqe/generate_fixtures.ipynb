{
 "cells": [
  {
   "cell_type": "code",
   "execution_count": 1,
   "metadata": {},
   "outputs": [],
   "source": [
    "%load_ext autoreload\n",
    "%autoreload 2"
   ]
  },
  {
   "cell_type": "code",
   "execution_count": 2,
   "metadata": {},
   "outputs": [],
   "source": [
    "import os\n",
    "\n",
    "import numpy as np\n",
    "import scipy.sparse as sp\n",
    "\n",
    "from solardatatools import DataHandler\n",
    "from solardatatools.dataio import load_redshift_data\n",
    "from solardatatools.algorithms import Dilation\n",
    "from spcqe.quantiles import SmoothPeriodicQuantiles\n",
    "from spcqe.functions import make_basis_matrix, make_regularization_matrix"
   ]
  },
  {
   "cell_type": "code",
   "execution_count": 3,
   "metadata": {},
   "outputs": [],
   "source": [
    "directory = 'fixtures'"
   ]
  },
  {
   "cell_type": "markdown",
   "metadata": {},
   "source": [
    "## Basis matrix"
   ]
  },
  {
   "cell_type": "markdown",
   "metadata": {},
   "source": [
    "3 periods and a trend term"
   ]
  },
  {
   "cell_type": "code",
   "execution_count": 4,
   "metadata": {},
   "outputs": [],
   "source": [
    "basis_a1 = make_basis_matrix(num_harmonics=10, length=500, periods=[11, 17, 23], trend=True)\n",
    "np.save(os.path.join(directory, 'basis_a1.npy'), basis_a1)"
   ]
  },
  {
   "cell_type": "markdown",
   "metadata": {},
   "source": [
    "2 periods and no trend term"
   ]
  },
  {
   "cell_type": "code",
   "execution_count": 5,
   "metadata": {},
   "outputs": [],
   "source": [
    "basis_a2 = make_basis_matrix(num_harmonics=10, length=400, periods=[11, 17], trend=False)\n",
    "np.save(os.path.join(directory, 'basis_a2.npy'), basis_a2)"
   ]
  },
  {
   "cell_type": "markdown",
   "metadata": {},
   "source": [
    "multiple harmonics and standing wave"
   ]
  },
  {
   "cell_type": "code",
   "execution_count": 6,
   "metadata": {},
   "outputs": [],
   "source": [
    "basis_a3 = make_basis_matrix(num_harmonics=[3, 7], length=370, periods=[11, 3], standing_wave=[True, False], trend=False)\n",
    "np.save(os.path.join(directory, 'basis_a3.npy'), basis_a3)"
   ]
  },
  {
   "cell_type": "markdown",
   "metadata": {},
   "source": [
    "multiple harmonics and standing wave and max cross terms"
   ]
  },
  {
   "cell_type": "code",
   "execution_count": 7,
   "metadata": {},
   "outputs": [],
   "source": [
    "basis_a4 = make_basis_matrix(num_harmonics=[4, 3], length=420, periods=[6, 8], standing_wave=True, trend=True, max_cross_k=4)\n",
    "np.save(os.path.join(directory, 'basis_a4.npy'), basis_a4)"
   ]
  },
  {
   "cell_type": "markdown",
   "metadata": {},
   "source": [
    "## Regularization matrix"
   ]
  },
  {
   "cell_type": "markdown",
   "metadata": {},
   "source": [
    "3 periods and a trend term"
   ]
  },
  {
   "cell_type": "code",
   "execution_count": 8,
   "metadata": {},
   "outputs": [],
   "source": [
    "reg_a1 = make_regularization_matrix(num_harmonics=10, weight=10, periods=[11, 17, 23], trend=True)\n",
    "sp.save_npz(os.path.join(directory, 'reg_a1.npz'), reg_a1)"
   ]
  },
  {
   "cell_type": "markdown",
   "metadata": {},
   "source": [
    "2 periods and no trend term"
   ]
  },
  {
   "cell_type": "code",
   "execution_count": 9,
   "metadata": {},
   "outputs": [],
   "source": [
    "reg_a2 = make_regularization_matrix(num_harmonics=10, weight=1, periods=[11, 17], trend=False)\n",
    "sp.save_npz(os.path.join(directory, 'reg_a2.npz'), reg_a2)"
   ]
  },
  {
   "cell_type": "markdown",
   "metadata": {},
   "source": [
    "multiple harmonics and standing wave"
   ]
  },
  {
   "cell_type": "code",
   "execution_count": 10,
   "metadata": {},
   "outputs": [],
   "source": [
    "reg_a3 = make_regularization_matrix(num_harmonics=[3, 7], weight=0, periods=[11, 3], standing_wave=[True, False], trend=False)\n",
    "sp.save_npz(os.path.join(directory, 'reg_a3.npz'), reg_a3)"
   ]
  },
  {
   "cell_type": "markdown",
   "metadata": {},
   "source": [
    "multiple harmonics and standing wave and max cross terms"
   ]
  },
  {
   "cell_type": "code",
   "execution_count": 11,
   "metadata": {},
   "outputs": [],
   "source": [
    "reg_a4 = make_regularization_matrix(num_harmonics=[4, 3], weight=3, periods=[6, 8], standing_wave=True, trend=True, max_cross_k=4)\n",
    "sp.save_npz(os.path.join(directory, 'reg_a4.npz'), reg_a4)"
   ]
  },
  {
   "cell_type": "markdown",
   "metadata": {},
   "source": [
    "## Tranforming pv data"
   ]
  },
  {
   "cell_type": "markdown",
   "metadata": {},
   "source": [
    "Import"
   ]
  },
  {
   "cell_type": "code",
   "execution_count": 12,
   "metadata": {},
   "outputs": [
    {
     "name": "stderr",
     "output_type": "stream",
     "text": [
      "/opt/miniconda3/envs/spcqe-dev/lib/python3.11/site-packages/solardatatools/time_axis_manipulation.py:79: FutureWarning: Series.__getitem__ treating keys as positions is deprecated. In a future version, integer keys will always be treated as labels (consistent with DataFrame behavior). To access a value by position, use `ser.iloc[pos]`\n",
      "  meas_name = str(df_view[name_key][0])\n"
     ]
    },
    {
     "name": "stdout",
     "output_type": "stream",
     "text": [
      "\n",
      "            *********************************************\n",
      "            * Solar Data Tools Data Onboarding Pipeline *\n",
      "            *********************************************\n",
      "\n",
      "            This pipeline runs a series of preprocessing, cleaning, and quality\n",
      "            control tasks on stand-alone PV power or irradiance time series data.\n",
      "            After the pipeline is run, the data may be plotted, filtered, or\n",
      "            further analyzed.\n",
      "\n",
      "            Authors: Bennet Meyers and Sara Miskovich, SLAC\n",
      "\n",
      "            (Tip: if you have a mosek [https://www.mosek.com/] license and have it\n",
      "            installed on your system, try setting solver='MOSEK' for a speedup)\n",
      "\n",
      "            This material is based upon work supported by the U.S. Department\n",
      "            of Energy's Office of Energy Efficiency and Renewable Energy (EERE)\n",
      "            under the Solar Energy Technologies Office Award Number 38529.\n",
      "\n",
      "            \n"
     ]
    },
    {
     "name": "stderr",
     "output_type": "stream",
     "text": [
      "task list:   0%|                                          | 0/7 [00:00<?, ?it/s]/opt/miniconda3/envs/spcqe-dev/lib/python3.11/site-packages/solardatatools/time_axis_manipulation.py:146: FutureWarning: Series.__getitem__ treating keys as positions is deprecated. In a future version, integer keys will always be treated as labels (consistent with DataFrame behavior). To access a value by position, use `ser.iloc[pos]`\n",
      "  if avg_day[0] >= thresh:\n",
      "/opt/miniconda3/envs/spcqe-dev/lib/python3.11/site-packages/solardatatools/time_axis_manipulation.py:152: FutureWarning: Series.__getitem__ treating keys as positions is deprecated. In a future version, integer keys will always be treated as labels (consistent with DataFrame behavior). To access a value by position, use `ser.iloc[pos]`\n",
      "  if avg_day[-1] >= thresh:\n",
      "/opt/miniconda3/envs/spcqe-dev/lib/python3.11/site-packages/solardatatools/matrix_embedding.py:41: FutureWarning: Second.delta is deprecated and will be removed in a future version. Use pd.Timedelta(obj) instead\n",
      "  n_steps = int(24 * 60 * 60 / df.index.freq.delta.seconds)\n",
      "task list: 100%|██████████████████████████████████| 7/7 [00:09<00:00,  1.37s/it]"
     ]
    },
    {
     "name": "stdout",
     "output_type": "stream",
     "text": [
      "\n",
      "\n",
      "total time: 9.63 seconds\n",
      "--------------------------------\n",
      "Breakdown\n",
      "--------------------------------\n",
      "Preprocessing              3.15s\n",
      "Cleaning                   0.18s\n",
      "Filtering/Summarizing      6.30s\n",
      "    Data quality           0.10s\n",
      "    Clear day detect       0.21s\n",
      "    Clipping detect        1.50s\n",
      "    Capacity change detect 4.50s\n",
      "\n"
     ]
    },
    {
     "name": "stderr",
     "output_type": "stream",
     "text": [
      "\n"
     ]
    }
   ],
   "source": [
    "query = {\n",
    "'siteid': \"TADBC1078041\",\n",
    "'api_key': os.environ.get('REDSHIFT_API_KEY'),\n",
    "'sensor': 0\n",
    "}\n",
    "df = load_redshift_data(**query)\n",
    "dh = DataHandler(df, convert_to_ts=True)\n",
    "dh.run_pipeline()"
   ]
  },
  {
   "cell_type": "markdown",
   "metadata": {},
   "source": [
    "Dilation"
   ]
  },
  {
   "cell_type": "code",
   "execution_count": 13,
   "metadata": {},
   "outputs": [],
   "source": [
    "nvals_dil = 101\n",
    "dil = Dilation(dh)\n",
    "sig = dil.signal_dil\n",
    "ndays = 50\n",
    "sig = sig[:1 + nvals_dil * ndays]"
   ]
  },
  {
   "cell_type": "code",
   "execution_count": 14,
   "metadata": {},
   "outputs": [],
   "source": [
    "np.save(os.path.join(directory, 'pvsig.npy'), sig)"
   ]
  },
  {
   "cell_type": "markdown",
   "metadata": {},
   "source": [
    "Transform"
   ]
  },
  {
   "cell_type": "code",
   "execution_count": 15,
   "metadata": {},
   "outputs": [],
   "source": [
    "my_quantiles = [0.02, 0.1, 0.2, 0.3, 0.4, 0.5, 0.6, 0.7, 0.8, 0.9, 0.98]"
   ]
  },
  {
   "cell_type": "code",
   "execution_count": 16,
   "metadata": {},
   "outputs": [
    {
     "name": "stdout",
     "output_type": "stream",
     "text": [
      "YES\n"
     ]
    },
    {
     "name": "stderr",
     "output_type": "stream",
     "text": [
      "100%|███████████████████████████████████████████| 11/11 [00:07<00:00,  1.51it/s]\n"
     ]
    }
   ],
   "source": [
    "spq1 = SmoothPeriodicQuantiles(\n",
    "        num_harmonics=[10,3],\n",
    "        periods=[nvals_dil, 365.24225*nvals_dil],\n",
    "        standing_wave=[True, False],\n",
    "        trend=False,\n",
    "        quantiles=my_quantiles,\n",
    "        weight=10,\n",
    "        problem='sequential',\n",
    "        solver='qss',\n",
    "        verbose=False,\n",
    ")\n",
    "spq1.fit(sig)"
   ]
  },
  {
   "cell_type": "code",
   "execution_count": 17,
   "metadata": {},
   "outputs": [],
   "source": [
    "transformed_data1 = spq1.transform(sig)\n",
    "np.save(os.path.join(directory, 'transformed_data1.npy'), transformed_data1)"
   ]
  },
  {
   "cell_type": "code",
   "execution_count": 20,
   "metadata": {},
   "outputs": [
    {
     "name": "stdout",
     "output_type": "stream",
     "text": [
      "YES\n"
     ]
    },
    {
     "name": "stderr",
     "output_type": "stream",
     "text": [
      "  0%|                                                    | 0/11 [00:00<?, ?it/s]"
     ]
    },
    {
     "name": "stdout",
     "output_type": "stream",
     "text": [
      "===============================================================================\n",
      "                                     CVXPY                                     \n",
      "                                     v1.4.3                                    \n",
      "===============================================================================\n",
      "(CVXPY) May 19 09:23:01 PM: Your problem has 10179 variables, 1 constraints, and 0 parameters.\n",
      "(CVXPY) May 19 09:23:01 PM: It is compliant with the following grammars: DCP, DQCP\n",
      "(CVXPY) May 19 09:23:01 PM: (If you need to solve this problem multiple times, but with different data, consider using parameters.)\n",
      "(CVXPY) May 19 09:23:01 PM: CVXPY will first compile your problem; then, it will invoke a numerical solver to obtain a solution.\n",
      "(CVXPY) May 19 09:23:01 PM: Your problem is compiled with the CPP canonicalization backend.\n",
      "-------------------------------------------------------------------------------\n",
      "                                  Compilation                                  \n",
      "-------------------------------------------------------------------------------\n",
      "(CVXPY) May 19 09:23:01 PM: Compiling problem (target solver=MOSEK).\n",
      "(CVXPY) May 19 09:23:01 PM: Reduction chain: Dcp2Cone -> CvxAttr2Constr -> ConeMatrixStuffing -> MOSEK\n",
      "(CVXPY) May 19 09:23:01 PM: Applying reduction Dcp2Cone\n",
      "(CVXPY) May 19 09:24:01 PM: Applying reduction CvxAttr2Constr\n",
      "(CVXPY) May 19 09:24:01 PM: Applying reduction ConeMatrixStuffing\n",
      "(CVXPY) May 19 09:24:01 PM: Applying reduction MOSEK\n",
      "(CVXPY) May 19 09:24:01 PM: Finished problem compilation (took 5.987e+01 seconds).\n",
      "-------------------------------------------------------------------------------\n",
      "                                Numerical solver                               \n",
      "-------------------------------------------------------------------------------\n",
      "(CVXPY) May 19 09:24:01 PM: Invoking solver MOSEK  to obtain a solution.\n"
     ]
    },
    {
     "name": "stderr",
     "output_type": "stream",
     "text": [
      "  0%|                                                    | 0/11 [01:00<?, ?it/s]"
     ]
    },
    {
     "name": "stdout",
     "output_type": "stream",
     "text": [
      "\n",
      "\n"
     ]
    },
    {
     "name": "stderr",
     "output_type": "stream",
     "text": [
      "\n"
     ]
    },
    {
     "ename": "ValueError",
     "evalue": "Invalid keyword-argument(s) dict_keys(['rho_update', 'rho', 'max_iter', 'eps_abs', 'eps_rel']) passed to MOSEK solver.",
     "output_type": "error",
     "traceback": [
      "\u001b[0;31m---------------------------------------------------------------------------\u001b[0m",
      "\u001b[0;31mValueError\u001b[0m                                Traceback (most recent call last)",
      "Cell \u001b[0;32mIn[20], line 12\u001b[0m\n\u001b[1;32m      1\u001b[0m spq2 \u001b[38;5;241m=\u001b[39m SmoothPeriodicQuantiles(\n\u001b[1;32m      2\u001b[0m         num_harmonics\u001b[38;5;241m=\u001b[39m[\u001b[38;5;241m10\u001b[39m,\u001b[38;5;241m3\u001b[39m],\n\u001b[1;32m      3\u001b[0m         periods\u001b[38;5;241m=\u001b[39m[nvals_dil, \u001b[38;5;241m365.24225\u001b[39m\u001b[38;5;241m*\u001b[39mnvals_dil],\n\u001b[0;32m   (...)\u001b[0m\n\u001b[1;32m     10\u001b[0m         verbose\u001b[38;5;241m=\u001b[39m\u001b[38;5;28;01mTrue\u001b[39;00m\n\u001b[1;32m     11\u001b[0m )\n\u001b[0;32m---> 12\u001b[0m \u001b[43mspq2\u001b[49m\u001b[38;5;241;43m.\u001b[39;49m\u001b[43mfit\u001b[49m\u001b[43m(\u001b[49m\u001b[43msig\u001b[49m\u001b[43m)\u001b[49m\n",
      "File \u001b[0;32m~/Documents/Stanford/PVInsight/spcqe_dev/spcqe/src/spcqe/quantiles.py:89\u001b[0m, in \u001b[0;36mSmoothPeriodicQuantiles.fit\u001b[0;34m(self, X, y)\u001b[0m\n\u001b[1;32m     74\u001b[0m     fit_quantiles, basis \u001b[38;5;241m=\u001b[39m solve_cvx(\n\u001b[1;32m     75\u001b[0m         data,\n\u001b[1;32m     76\u001b[0m         \u001b[38;5;28mself\u001b[39m\u001b[38;5;241m.\u001b[39mnum_harmonics,\n\u001b[0;32m   (...)\u001b[0m\n\u001b[1;32m     86\u001b[0m         \u001b[38;5;28mself\u001b[39m\u001b[38;5;241m.\u001b[39mcustom_basis,\n\u001b[1;32m     87\u001b[0m     )\n\u001b[1;32m     88\u001b[0m \u001b[38;5;28;01melif\u001b[39;00m \u001b[38;5;28mself\u001b[39m\u001b[38;5;241m.\u001b[39mproblem \u001b[38;5;241m==\u001b[39m \u001b[38;5;124m\"\u001b[39m\u001b[38;5;124msequential\u001b[39m\u001b[38;5;124m\"\u001b[39m:\n\u001b[0;32m---> 89\u001b[0m     fit_quantiles, basis \u001b[38;5;241m=\u001b[39m \u001b[43msolve_osd\u001b[49m\u001b[43m(\u001b[49m\n\u001b[1;32m     90\u001b[0m \u001b[43m        \u001b[49m\u001b[43mdata\u001b[49m\u001b[43m,\u001b[49m\n\u001b[1;32m     91\u001b[0m \u001b[43m        \u001b[49m\u001b[38;5;28;43mself\u001b[39;49m\u001b[38;5;241;43m.\u001b[39;49m\u001b[43mnum_harmonics\u001b[49m\u001b[43m,\u001b[49m\n\u001b[1;32m     92\u001b[0m \u001b[43m        \u001b[49m\u001b[38;5;28;43mself\u001b[39;49m\u001b[38;5;241;43m.\u001b[39;49m\u001b[43mperiods\u001b[49m\u001b[43m,\u001b[49m\n\u001b[1;32m     93\u001b[0m \u001b[43m        \u001b[49m\u001b[38;5;28;43mself\u001b[39;49m\u001b[38;5;241;43m.\u001b[39;49m\u001b[43mstanding_wave\u001b[49m\u001b[43m,\u001b[49m\n\u001b[1;32m     94\u001b[0m \u001b[43m        \u001b[49m\u001b[38;5;28;43mself\u001b[39;49m\u001b[38;5;241;43m.\u001b[39;49m\u001b[43mtrend\u001b[49m\u001b[43m,\u001b[49m\n\u001b[1;32m     95\u001b[0m \u001b[43m        \u001b[49m\u001b[38;5;28;43mself\u001b[39;49m\u001b[38;5;241;43m.\u001b[39;49m\u001b[43mmax_cross_k\u001b[49m\u001b[43m,\u001b[49m\n\u001b[1;32m     96\u001b[0m \u001b[43m        \u001b[49m\u001b[38;5;28;43mself\u001b[39;49m\u001b[38;5;241;43m.\u001b[39;49m\u001b[43mweight\u001b[49m\u001b[43m,\u001b[49m\n\u001b[1;32m     97\u001b[0m \u001b[43m        \u001b[49m\u001b[38;5;28;43mself\u001b[39;49m\u001b[38;5;241;43m.\u001b[39;49m\u001b[43mquantiles\u001b[49m\u001b[43m,\u001b[49m\n\u001b[1;32m     98\u001b[0m \u001b[43m        \u001b[49m\u001b[38;5;28;43mself\u001b[39;49m\u001b[38;5;241;43m.\u001b[39;49m\u001b[43meps\u001b[49m\u001b[43m,\u001b[49m\n\u001b[1;32m     99\u001b[0m \u001b[43m        \u001b[49m\u001b[38;5;28;43mself\u001b[39;49m\u001b[38;5;241;43m.\u001b[39;49m\u001b[43msolver\u001b[49m\u001b[38;5;241;43m.\u001b[39;49m\u001b[43mupper\u001b[49m\u001b[43m(\u001b[49m\u001b[43m)\u001b[49m\u001b[43m,\u001b[49m\n\u001b[1;32m    100\u001b[0m \u001b[43m        \u001b[49m\u001b[38;5;28;43mself\u001b[39;49m\u001b[38;5;241;43m.\u001b[39;49m\u001b[43mverbose\u001b[49m\u001b[43m,\u001b[49m\n\u001b[1;32m    101\u001b[0m \u001b[43m        \u001b[49m\u001b[38;5;28;43mself\u001b[39;49m\u001b[38;5;241;43m.\u001b[39;49m\u001b[43mcustom_basis\u001b[49m\u001b[43m,\u001b[49m\n\u001b[1;32m    102\u001b[0m \u001b[43m    \u001b[49m\u001b[43m)\u001b[49m\n\u001b[1;32m    103\u001b[0m \u001b[38;5;28;01melse\u001b[39;00m:\n\u001b[1;32m    104\u001b[0m     \u001b[38;5;28;01mraise\u001b[39;00m \u001b[38;5;167;01mNotImplementedError\u001b[39;00m(\u001b[38;5;124m\"\u001b[39m\u001b[38;5;124mOnly \u001b[39m\u001b[38;5;124m'\u001b[39m\u001b[38;5;124mfull\u001b[39m\u001b[38;5;124m'\u001b[39m\u001b[38;5;124m and \u001b[39m\u001b[38;5;124m'\u001b[39m\u001b[38;5;124msequential\u001b[39m\u001b[38;5;124m'\u001b[39m\u001b[38;5;124m problems supported\u001b[39m\u001b[38;5;124m\"\u001b[39m)\n",
      "File \u001b[0;32m~/Documents/Stanford/PVInsight/spcqe_dev/spcqe/src/spcqe/solvers.py:114\u001b[0m, in \u001b[0;36msolve_osd\u001b[0;34m(data, num_harmonics, periods, standing_wave, trend, max_cross_k, weight, quantiles, eps, solver, verbose, custom_basis)\u001b[0m\n\u001b[1;32m    111\u001b[0m     \u001b[38;5;28;01melse\u001b[39;00m:\n\u001b[1;32m    112\u001b[0m         osd_abs \u001b[38;5;241m=\u001b[39m \u001b[38;5;241m1e-3\u001b[39m\n\u001b[1;32m    113\u001b[0m     problem\u001b[38;5;241m.\u001b[39mdecompose(\n\u001b[0;32m--> 114\u001b[0m         verbose\u001b[38;5;241m=\u001b[39mverbose,\n\u001b[1;32m    115\u001b[0m         solver\u001b[38;5;241m=\u001b[39msolver,\n\u001b[1;32m    116\u001b[0m         rho_update\u001b[38;5;241m=\u001b[39m\u001b[38;5;124m\"\u001b[39m\u001b[38;5;124mnone\u001b[39m\u001b[38;5;124m\"\u001b[39m,\n\u001b[1;32m    117\u001b[0m         rho\u001b[38;5;241m=\u001b[39m[\u001b[38;5;241m0.5\u001b[39m, \u001b[38;5;241m0.02\u001b[39m],\n\u001b[1;32m    118\u001b[0m         max_iter\u001b[38;5;241m=\u001b[39m\u001b[38;5;241m5000\u001b[39m,\n\u001b[1;32m    119\u001b[0m         eps_abs\u001b[38;5;241m=\u001b[39mosd_abs,\n\u001b[1;32m    120\u001b[0m         eps_rel\u001b[38;5;241m=\u001b[39mosd_abs,\n\u001b[1;32m    121\u001b[0m     )\n\u001b[1;32m    122\u001b[0m     quantile_estimates[:, ix] \u001b[38;5;241m=\u001b[39m problem\u001b[38;5;241m.\u001b[39mdecomposition[\u001b[38;5;241m1\u001b[39m]\n\u001b[1;32m    123\u001b[0m quantile_estimates \u001b[38;5;241m=\u001b[39m np\u001b[38;5;241m.\u001b[39msort(quantile_estimates, axis\u001b[38;5;241m=\u001b[39m\u001b[38;5;241m1\u001b[39m)\n",
      "File \u001b[0;32m/opt/miniconda3/envs/spcqe-dev/lib/python3.11/site-packages/gfosd/problem.py:93\u001b[0m, in \u001b[0;36mProblem.decompose\u001b[0;34m(self, solver, canonical_form, make_feasible, **kwargs)\u001b[0m\n\u001b[1;32m     90\u001b[0m     result \u001b[38;5;241m=\u001b[39m \u001b[38;5;28mself\u001b[39m\u001b[38;5;241m.\u001b[39m_solve_qss(canonical_form, \u001b[38;5;241m*\u001b[39m\u001b[38;5;241m*\u001b[39mkwargs)\n\u001b[1;32m     92\u001b[0m \u001b[38;5;28;01melse\u001b[39;00m:\n\u001b[0;32m---> 93\u001b[0m     result \u001b[38;5;241m=\u001b[39m \u001b[38;5;28;43mself\u001b[39;49m\u001b[38;5;241;43m.\u001b[39;49m\u001b[43m_solve_cvx\u001b[49m\u001b[43m(\u001b[49m\u001b[43mcanonical_form\u001b[49m\u001b[43m,\u001b[49m\u001b[43m \u001b[49m\u001b[43msolver\u001b[49m\u001b[43m,\u001b[49m\u001b[43m \u001b[49m\u001b[38;5;241;43m*\u001b[39;49m\u001b[38;5;241;43m*\u001b[39;49m\u001b[43mkwargs\u001b[49m\u001b[43m)\u001b[49m\n\u001b[1;32m     94\u001b[0m \u001b[38;5;28mself\u001b[39m\u001b[38;5;241m.\u001b[39mretrieve_result(result)\n\u001b[1;32m     95\u001b[0m \u001b[38;5;28;01mif\u001b[39;00m solver\u001b[38;5;241m.\u001b[39mlower() \u001b[38;5;241m==\u001b[39m \u001b[38;5;124m'\u001b[39m\u001b[38;5;124mqss\u001b[39m\u001b[38;5;124m'\u001b[39m \u001b[38;5;129;01mand\u001b[39;00m make_feasible:\n",
      "File \u001b[0;32m/opt/miniconda3/envs/spcqe-dev/lib/python3.11/site-packages/gfosd/problem.py:208\u001b[0m, in \u001b[0;36mProblem._solve_cvx\u001b[0;34m(self, data, solver, **solver_kwargs)\u001b[0m\n\u001b[1;32m    206\u001b[0m         \u001b[38;5;28;01mdel\u001b[39;00m solver_kwargs[\u001b[38;5;124m\"\u001b[39m\u001b[38;5;124meps_abs\u001b[39m\u001b[38;5;124m\"\u001b[39m]\n\u001b[1;32m    207\u001b[0m         solver_kwargs[\u001b[38;5;124m\"\u001b[39m\u001b[38;5;124mtol_gap_abs\u001b[39m\u001b[38;5;124m\"\u001b[39m] \u001b[38;5;241m=\u001b[39m ea\n\u001b[0;32m--> 208\u001b[0m \u001b[43mcvx_prob\u001b[49m\u001b[38;5;241;43m.\u001b[39;49m\u001b[43msolve\u001b[49m\u001b[43m(\u001b[49m\u001b[43msolver\u001b[49m\u001b[38;5;241;43m=\u001b[39;49m\u001b[43msolver\u001b[49m\u001b[43m,\u001b[49m\u001b[43m \u001b[49m\u001b[38;5;241;43m*\u001b[39;49m\u001b[38;5;241;43m*\u001b[39;49m\u001b[43msolver_kwargs\u001b[49m\u001b[43m)\u001b[49m\n\u001b[1;32m    209\u001b[0m \u001b[38;5;28mself\u001b[39m\u001b[38;5;241m.\u001b[39m_cvx_obj \u001b[38;5;241m=\u001b[39m cvx_prob\n\u001b[1;32m    210\u001b[0m \u001b[38;5;28mself\u001b[39m\u001b[38;5;241m.\u001b[39mobjective_value \u001b[38;5;241m=\u001b[39m cvx_prob\u001b[38;5;241m.\u001b[39mvalue\n",
      "File \u001b[0;32m/opt/miniconda3/envs/spcqe-dev/lib/python3.11/site-packages/cvxpy/problems/problem.py:503\u001b[0m, in \u001b[0;36mProblem.solve\u001b[0;34m(self, *args, **kwargs)\u001b[0m\n\u001b[1;32m    501\u001b[0m \u001b[38;5;28;01melse\u001b[39;00m:\n\u001b[1;32m    502\u001b[0m     solve_func \u001b[38;5;241m=\u001b[39m Problem\u001b[38;5;241m.\u001b[39m_solve\n\u001b[0;32m--> 503\u001b[0m \u001b[38;5;28;01mreturn\u001b[39;00m \u001b[43msolve_func\u001b[49m\u001b[43m(\u001b[49m\u001b[38;5;28;43mself\u001b[39;49m\u001b[43m,\u001b[49m\u001b[43m \u001b[49m\u001b[38;5;241;43m*\u001b[39;49m\u001b[43margs\u001b[49m\u001b[43m,\u001b[49m\u001b[43m \u001b[49m\u001b[38;5;241;43m*\u001b[39;49m\u001b[38;5;241;43m*\u001b[39;49m\u001b[43mkwargs\u001b[49m\u001b[43m)\u001b[49m\n",
      "File \u001b[0;32m/opt/miniconda3/envs/spcqe-dev/lib/python3.11/site-packages/cvxpy/problems/problem.py:1082\u001b[0m, in \u001b[0;36mProblem._solve\u001b[0;34m(self, solver, warm_start, verbose, gp, qcp, requires_grad, enforce_dpp, ignore_dpp, canon_backend, **kwargs)\u001b[0m\n\u001b[1;32m   1078\u001b[0m     s\u001b[38;5;241m.\u001b[39mLOGGER\u001b[38;5;241m.\u001b[39minfo(\n\u001b[1;32m   1079\u001b[0m             \u001b[38;5;124m'\u001b[39m\u001b[38;5;124mInvoking solver \u001b[39m\u001b[38;5;132;01m%s\u001b[39;00m\u001b[38;5;124m  to obtain a solution.\u001b[39m\u001b[38;5;124m'\u001b[39m,\n\u001b[1;32m   1080\u001b[0m             solving_chain\u001b[38;5;241m.\u001b[39mreductions[\u001b[38;5;241m-\u001b[39m\u001b[38;5;241m1\u001b[39m]\u001b[38;5;241m.\u001b[39mname())\n\u001b[1;32m   1081\u001b[0m start \u001b[38;5;241m=\u001b[39m time\u001b[38;5;241m.\u001b[39mtime()\n\u001b[0;32m-> 1082\u001b[0m solution \u001b[38;5;241m=\u001b[39m \u001b[43msolving_chain\u001b[49m\u001b[38;5;241;43m.\u001b[39;49m\u001b[43msolve_via_data\u001b[49m\u001b[43m(\u001b[49m\n\u001b[1;32m   1083\u001b[0m \u001b[43m    \u001b[49m\u001b[38;5;28;43mself\u001b[39;49m\u001b[43m,\u001b[49m\u001b[43m \u001b[49m\u001b[43mdata\u001b[49m\u001b[43m,\u001b[49m\u001b[43m \u001b[49m\u001b[43mwarm_start\u001b[49m\u001b[43m,\u001b[49m\u001b[43m \u001b[49m\u001b[43mverbose\u001b[49m\u001b[43m,\u001b[49m\u001b[43m \u001b[49m\u001b[43mkwargs\u001b[49m\u001b[43m)\u001b[49m\n\u001b[1;32m   1084\u001b[0m end \u001b[38;5;241m=\u001b[39m time\u001b[38;5;241m.\u001b[39mtime()\n\u001b[1;32m   1085\u001b[0m \u001b[38;5;28mself\u001b[39m\u001b[38;5;241m.\u001b[39m_solve_time \u001b[38;5;241m=\u001b[39m end \u001b[38;5;241m-\u001b[39m start\n",
      "File \u001b[0;32m/opt/miniconda3/envs/spcqe-dev/lib/python3.11/site-packages/cvxpy/reductions/solvers/solving_chain.py:453\u001b[0m, in \u001b[0;36mSolvingChain.solve_via_data\u001b[0;34m(self, problem, data, warm_start, verbose, solver_opts)\u001b[0m\n\u001b[1;32m    417\u001b[0m \u001b[38;5;28;01mdef\u001b[39;00m \u001b[38;5;21msolve_via_data\u001b[39m(\u001b[38;5;28mself\u001b[39m, problem, data, warm_start: \u001b[38;5;28mbool\u001b[39m \u001b[38;5;241m=\u001b[39m \u001b[38;5;28;01mFalse\u001b[39;00m, verbose: \u001b[38;5;28mbool\u001b[39m \u001b[38;5;241m=\u001b[39m \u001b[38;5;28;01mFalse\u001b[39;00m,\n\u001b[1;32m    418\u001b[0m                    solver_opts\u001b[38;5;241m=\u001b[39m{}):\n\u001b[1;32m    419\u001b[0m \u001b[38;5;250m    \u001b[39m\u001b[38;5;124;03m\"\"\"Solves the problem using the data output by the an apply invocation.\u001b[39;00m\n\u001b[1;32m    420\u001b[0m \n\u001b[1;32m    421\u001b[0m \u001b[38;5;124;03m    The semantics are:\u001b[39;00m\n\u001b[0;32m   (...)\u001b[0m\n\u001b[1;32m    451\u001b[0m \u001b[38;5;124;03m        a Solution object.\u001b[39;00m\n\u001b[1;32m    452\u001b[0m \u001b[38;5;124;03m    \"\"\"\u001b[39;00m\n\u001b[0;32m--> 453\u001b[0m     \u001b[38;5;28;01mreturn\u001b[39;00m \u001b[38;5;28;43mself\u001b[39;49m\u001b[38;5;241;43m.\u001b[39;49m\u001b[43msolver\u001b[49m\u001b[38;5;241;43m.\u001b[39;49m\u001b[43msolve_via_data\u001b[49m\u001b[43m(\u001b[49m\u001b[43mdata\u001b[49m\u001b[43m,\u001b[49m\u001b[43m \u001b[49m\u001b[43mwarm_start\u001b[49m\u001b[43m,\u001b[49m\u001b[43m \u001b[49m\u001b[43mverbose\u001b[49m\u001b[43m,\u001b[49m\n\u001b[1;32m    454\u001b[0m \u001b[43m                                      \u001b[49m\u001b[43msolver_opts\u001b[49m\u001b[43m,\u001b[49m\u001b[43m \u001b[49m\u001b[43mproblem\u001b[49m\u001b[38;5;241;43m.\u001b[39;49m\u001b[43m_solver_cache\u001b[49m\u001b[43m)\u001b[49m\n",
      "File \u001b[0;32m/opt/miniconda3/envs/spcqe-dev/lib/python3.11/site-packages/cvxpy/reductions/solvers/conic_solvers/mosek_conif.py:279\u001b[0m, in \u001b[0;36mMOSEK.solve_via_data\u001b[0;34m(self, data, warm_start, verbose, solver_opts, solver_cache)\u001b[0m\n\u001b[1;32m    277\u001b[0m         env \u001b[38;5;241m=\u001b[39m mosek\u001b[38;5;241m.\u001b[39mEnv()\n\u001b[1;32m    278\u001b[0m         task \u001b[38;5;241m=\u001b[39m env\u001b[38;5;241m.\u001b[39mTask(\u001b[38;5;241m0\u001b[39m, \u001b[38;5;241m0\u001b[39m)\n\u001b[0;32m--> 279\u001b[0m         solver_opts \u001b[38;5;241m=\u001b[39m \u001b[43mMOSEK\u001b[49m\u001b[38;5;241;43m.\u001b[39;49m\u001b[43mhandle_options\u001b[49m\u001b[43m(\u001b[49m\u001b[43menv\u001b[49m\u001b[43m,\u001b[49m\u001b[43m \u001b[49m\u001b[43mtask\u001b[49m\u001b[43m,\u001b[49m\u001b[43m \u001b[49m\u001b[43mverbose\u001b[49m\u001b[43m,\u001b[49m\u001b[43m \u001b[49m\u001b[43msolver_opts\u001b[49m\u001b[43m)\u001b[49m\n\u001b[1;32m    280\u001b[0m         task \u001b[38;5;241m=\u001b[39m MOSEK\u001b[38;5;241m.\u001b[39m_build_dualized_task(task, data)\n\u001b[1;32m    281\u001b[0m \u001b[38;5;28;01melse\u001b[39;00m:\n",
      "File \u001b[0;32m/opt/miniconda3/envs/spcqe-dev/lib/python3.11/site-packages/cvxpy/reductions/solvers/conic_solvers/mosek_conif.py:705\u001b[0m, in \u001b[0;36mMOSEK.handle_options\u001b[0;34m(env, task, verbose, solver_opts)\u001b[0m\n\u001b[1;32m    703\u001b[0m \u001b[38;5;66;03m# Check if any unknown options were passed\u001b[39;00m\n\u001b[1;32m    704\u001b[0m \u001b[38;5;28;01mif\u001b[39;00m solver_opts:\n\u001b[0;32m--> 705\u001b[0m     \u001b[38;5;28;01mraise\u001b[39;00m \u001b[38;5;167;01mValueError\u001b[39;00m(\u001b[38;5;124mf\u001b[39m\u001b[38;5;124m\"\u001b[39m\u001b[38;5;124mInvalid keyword-argument(s) \u001b[39m\u001b[38;5;132;01m{\u001b[39;00msolver_opts\u001b[38;5;241m.\u001b[39mkeys()\u001b[38;5;132;01m}\u001b[39;00m\u001b[38;5;124m passed \u001b[39m\u001b[38;5;124m\"\u001b[39m\n\u001b[1;32m    706\u001b[0m                      \u001b[38;5;124mf\u001b[39m\u001b[38;5;124m\"\u001b[39m\u001b[38;5;124mto MOSEK solver.\u001b[39m\u001b[38;5;124m\"\u001b[39m)\n\u001b[1;32m    708\u001b[0m \u001b[38;5;66;03m# Decide whether basis identification is needed for intpnt solver\u001b[39;00m\n\u001b[1;32m    709\u001b[0m \u001b[38;5;66;03m# This is only required if solve() was called with bfs=True\u001b[39;00m\n\u001b[1;32m    710\u001b[0m \u001b[38;5;28;01mif\u001b[39;00m processed_opts[\u001b[38;5;124m'\u001b[39m\u001b[38;5;124mbfs\u001b[39m\u001b[38;5;124m'\u001b[39m]:\n",
      "\u001b[0;31mValueError\u001b[0m: Invalid keyword-argument(s) dict_keys(['rho_update', 'rho', 'max_iter', 'eps_abs', 'eps_rel']) passed to MOSEK solver."
     ]
    }
   ],
   "source": [
    "spq2 = SmoothPeriodicQuantiles(\n",
    "        num_harmonics=[10,3],\n",
    "        periods=[nvals_dil, 365.24225*nvals_dil],\n",
    "        standing_wave=[True, False],\n",
    "        trend=False,\n",
    "        quantiles=my_quantiles,\n",
    "        weight=10,\n",
    "        problem='sequential',\n",
    "        solver='mosek',\n",
    "        verbose=True\n",
    ")\n",
    "spq2.fit(sig)"
   ]
  },
  {
   "cell_type": "code",
   "execution_count": 19,
   "metadata": {},
   "outputs": [],
   "source": [
    "transformed_data2 = spq2.transform(sig)\n",
    "np.save(os.path.join(directory, 'transformed_data2.npy'), transformed_data2)"
   ]
  },
  {
   "cell_type": "code",
   "execution_count": 18,
   "metadata": {},
   "outputs": [],
   "source": [
    "spq3 = SmoothPeriodicQuantiles(\n",
    "        num_harmonics=[10,3],\n",
    "        periods=[nvals_dil, 365.24225*nvals_dil],\n",
    "        standing_wave=[True, False],\n",
    "        trend=False,\n",
    "        quantiles=my_quantiles,\n",
    "        weight=10,\n",
    "        problem='full',\n",
    "        solver='mosek'\n",
    ")\n",
    "spq3.fit(sig)"
   ]
  },
  {
   "cell_type": "code",
   "execution_count": 21,
   "metadata": {},
   "outputs": [],
   "source": [
    "transformed_data3 = spq3.transform(sig)\n",
    "np.save(os.path.join(directory, 'transformed_data3.npy'), transformed_data3)"
   ]
  },
  {
   "cell_type": "code",
   "execution_count": 23,
   "metadata": {},
   "outputs": [],
   "source": [
    "spq4 = SmoothPeriodicQuantiles(\n",
    "        num_harmonics=[10,3],\n",
    "        periods=[nvals_dil, 365.24225*nvals_dil],\n",
    "        standing_wave=[True, False],\n",
    "        trend=False,\n",
    "        quantiles=my_quantiles,\n",
    "        weight=10,\n",
    "        problem='full',\n",
    "        solver='clarabel'\n",
    ")\n",
    "spq4.fit(sig)"
   ]
  },
  {
   "cell_type": "code",
   "execution_count": 24,
   "metadata": {},
   "outputs": [],
   "source": [
    "transformed_data4 = spq4.transform(sig)\n",
    "np.save(os.path.join(directory, 'transformed_data4.npy'), transformed_data4)"
   ]
  }
 ],
 "metadata": {
  "kernelspec": {
   "display_name": "spcqe-dev",
   "language": "python",
   "name": "python3"
  },
  "language_info": {
   "codemirror_mode": {
    "name": "ipython",
    "version": 3
   },
   "file_extension": ".py",
   "mimetype": "text/x-python",
   "name": "python",
   "nbconvert_exporter": "python",
   "pygments_lexer": "ipython3",
   "version": "3.11.8"
  }
 },
 "nbformat": 4,
 "nbformat_minor": 2
}
